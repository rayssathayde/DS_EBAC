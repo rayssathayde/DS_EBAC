{
 "cells": [
  {
   "cell_type": "markdown",
   "metadata": {},
   "source": [
    "![Cabec%CC%A7alho_notebook.png](cabecalho_notebook.png)"
   ]
  },
  {
   "cell_type": "markdown",
   "metadata": {},
   "source": [
    "# PCA - Tarefa 01: *HAR* com PCA\n",
    "\n",
    "Vamos trabalhar com a base da demonstração feita em aula, mas vamos explorar um pouco melhor como é o desempenho da árvore variando o número de componentes principais."
   ]
  },
  {
   "cell_type": "code",
   "execution_count": 10,
   "metadata": {},
   "outputs": [],
   "source": [
    "import pandas as pd\n",
    "\n",
    "from sklearn.tree import DecisionTreeClassifier\n",
    "from sklearn.model_selection import train_test_split\n",
    "\n",
    "from sklearn.decomposition import PCA\n",
    "from sklearn.metrics import accuracy_score\n",
    "from sklearn.model_selection import cross_val_score\n",
    "from sklearn.model_selection import GridSearchCV\n",
    "\n",
    "filename_features = \"/Users/rayssaathayde/Library/CloudStorage/OneDrive-Pessoal/Ciências de Dados/EBAC/27/UCI HAR Dataset/features.txt\"\n",
    "filename_labels = \"/Users/rayssaathayde/Library/CloudStorage/OneDrive-Pessoal/Ciências de Dados/EBAC/27/UCI HAR Dataset/activity_labels.txt\"\n",
    "\n",
    "filename_subtrain = \"/Users/rayssaathayde/Library/CloudStorage/OneDrive-Pessoal/Ciências de Dados/EBAC/27/UCI HAR Dataset/train/subject_train.txt\"\n",
    "filename_xtrain = \"/Users/rayssaathayde/Library/CloudStorage/OneDrive-Pessoal/Ciências de Dados/EBAC/27/UCI HAR Dataset/train/X_train.txt\"\n",
    "filename_ytrain = \"/Users/rayssaathayde/Library/CloudStorage/OneDrive-Pessoal/Ciências de Dados/EBAC/27/UCI HAR Dataset/train/y_train.txt\"\n",
    "\n",
    "filename_subtest = \"/Users/rayssaathayde/Library/CloudStorage/OneDrive-Pessoal/Ciências de Dados/EBAC/27/UCI HAR Dataset/test/subject_test.txt\"\n",
    "ffilename_xtest = \"/Users/rayssaathayde/Library/CloudStorage/OneDrive-Pessoal/Ciências de Dados/EBAC/27/UCI HAR Dataset/test/X_test.txt\"\n",
    "filename_ytest = \"/Users/rayssaathayde/Library/CloudStorage/OneDrive-Pessoal/Ciências de Dados/EBAC/27/UCI HAR Dataset/test/y_test.txt\"\n",
    "\n",
    "features = pd.read_csv(filename_features, header=None, names=['nome_var'], sep=\"#\").squeeze('columns')\n",
    "labels = pd.read_csv(filename_labels, delim_whitespace=True, header=None, names=['cod_label', 'label'])\n",
    "\n",
    "subject_train = pd.read_csv(filename_subtrain, header=None, names=['subject_id']).squeeze('columns')\n",
    "X_train = pd.read_csv(filename_xtrain, delim_whitespace=True, header=None, names=features.tolist())\n",
    "y_train = pd.read_csv(filename_ytrain, header=None, names=['cod_label'])\n",
    "\n",
    "subject_test = pd.read_csv(filename_subtest, header=None, names=['subject_id']).squeeze('columns')\n",
    "X_test = pd.read_csv(ffilename_xtest, delim_whitespace=True, header=None, names=features.tolist())\n",
    "y_test = pd.read_csv(filename_ytest, header=None, names=['cod_label'])"
   ]
  },
  {
   "cell_type": "markdown",
   "metadata": {},
   "source": [
    "## Árvore de decisão\n",
    "\n",
    "Rode uma árvore de decisão com todas as variáveis, utilizando o ```ccp_alpha=0.001```. Avalie a acurácia nas bases de treinamento e teste. Avalie o tempo de processamento."
   ]
  },
  {
   "cell_type": "code",
   "execution_count": 11,
   "metadata": {},
   "outputs": [],
   "source": [
    "#separar base para validação\n",
    "\n",
    "X_train, X_valid, y_train, y_valid = train_test_split(X_train, y_train, test_size=0.25, random_state=100)"
   ]
  },
  {
   "cell_type": "code",
   "execution_count": 22,
   "metadata": {},
   "outputs": [
    {
     "name": "stdout",
     "output_type": "stream",
     "text": [
      "Acurácia na base de treinamento: 0.98\n",
      "Acurácia na base de validação: 0.94\n",
      "Acurácia na base de teste: 0.87\n",
      "CPU times: user 2.4 s, sys: 17.4 ms, total: 2.41 s\n",
      "Wall time: 2.44 s\n"
     ]
    }
   ],
   "source": [
    "%%time\n",
    "\n",
    "clf = DecisionTreeClassifier(ccp_alpha= 0.001, random_state=100)\n",
    "\n",
    "clf = clf.fit(X_train, y_train)\n",
    "\n",
    "# Avaliação da acurácia do classificador nos dados de treinamento\n",
    "print(f'Acurácia na base de treinamento: {round(clf.score(X_train, y_train), 2)}')\n",
    "\n",
    "# Avaliação da acurácia do classificador nos dados de validação\n",
    "print(f'Acurácia na base de validação: {round(clf.score(X_valid, y_valid), 2)}')\n",
    "\n",
    "# Avaliação da acurácia do classificador nos dados de teste\n",
    "print(f'Acurácia na base de teste: {round(clf.score(X_test, y_test), 2)}')"
   ]
  },
  {
   "cell_type": "markdown",
   "metadata": {},
   "source": [
    "## Árvore com PCA\n",
    "\n",
    "Faça uma análise de componentes principais das variáveis originais. Utilize apenas uma componente. Faça uma árvore de decisão com esta componente como variável explicativa.\n",
    "\n",
    "- Avalie a acurácia nas bases de treinamento e teste\n",
    "- Avalie o tempo de processamento"
   ]
  },
  {
   "cell_type": "code",
   "execution_count": 25,
   "metadata": {},
   "outputs": [
    {
     "name": "stdout",
     "output_type": "stream",
     "text": [
      "Acurácia na base de treinamento: 0.5\n",
      "Acurácia na base de validação: 0.49\n",
      "Acurácia na base de teste: 0.46\n",
      "CPU times: user 846 ms, sys: 191 ms, total: 1.04 s\n",
      "Wall time: 159 ms\n"
     ]
    }
   ],
   "source": [
    "%%time\n",
    "\n",
    "# Aplica o PCA com 1 componente aos dados de treinamento\n",
    "prcomp = PCA(n_components=1).fit(X_train)\n",
    "\n",
    "# Transforma os dados de treinamento, validação e teste utilizando as componentes principais encontradas pelo PCA\n",
    "pc_treino = prcomp.transform(X_train)\n",
    "pc_valida = prcomp.transform(X_valid)\n",
    "pc_teste  = prcomp.transform(X_test)\n",
    "\n",
    "# Cria árvore de decisão com ccp_alpha=0.001 e treina-a com os dados de treinamento transformados\n",
    "clf = DecisionTreeClassifier(ccp_alpha= 0.001, random_state=100)\n",
    "\n",
    "clf = clf.fit(pc_treino, y_train)\n",
    "\n",
    "# Avaliação da acurácia do classificador nos dados de treinamento\n",
    "print(f'Acurácia na base de treinamento: {round(clf.score(pc_treino, y_train), 2)}')\n",
    "\n",
    "# Avaliação da acurácia do classificador nos dados de validação\n",
    "print(f'Acurácia na base de validação: {round(clf.score(pc_valida, y_valid), 2)}')\n",
    "\n",
    "# Avaliação da acurácia do classificador nos dados de teste\n",
    "print(f'Acurácia na base de teste: {round(clf.score(pc_teste, y_test), 2)}')"
   ]
  },
  {
   "cell_type": "markdown",
   "metadata": {},
   "source": [
    "## Testando o número de componentes\n",
    "\n",
    "Com base no código acima, teste a árvore de classificação com pelo menos as seguintes possibilidades de quantidades de componentes: ```[1, 2, 5, 10, 50]```. Avalie para cada uma delas:\n",
    "\n",
    "- Acurácia nas bases de treino e teste\n",
    "- Tempo de processamento\n"
   ]
  },
  {
   "cell_type": "code",
   "execution_count": 32,
   "metadata": {},
   "outputs": [
    {
     "name": "stdout",
     "output_type": "stream",
     "text": [
      "Acurácia na base de treinamento: 0.5 com 1 componentes.\n",
      "Acurácia na base de validação: 0.49 com 1 componentes.\n",
      "Acurácia na base de teste: 0.46 com 1 componentes.\n",
      "\n",
      "Acurácia na base de treinamento: 0.62 com 2 componentes.\n",
      "Acurácia na base de validação: 0.6 com 2 componentes.\n",
      "Acurácia na base de teste: 0.58 com 2 componentes.\n",
      "\n",
      "Acurácia na base de treinamento: 0.85 com 5 componentes.\n",
      "Acurácia na base de validação: 0.82 com 5 componentes.\n",
      "Acurácia na base de teste: 0.8 com 5 componentes.\n",
      "\n",
      "Acurácia na base de treinamento: 0.9 com 10 componentes.\n",
      "Acurácia na base de validação: 0.86 com 10 componentes.\n",
      "Acurácia na base de teste: 0.83 com 10 componentes.\n",
      "\n",
      "Acurácia na base de treinamento: 0.93 com 50 componentes.\n",
      "Acurácia na base de validação: 0.87 com 50 componentes.\n",
      "Acurácia na base de teste: 0.81 com 50 componentes.\n",
      "\n",
      "Acurácia na base de treinamento: 0.94 com 100 componentes.\n",
      "Acurácia na base de validação: 0.86 com 100 componentes.\n",
      "Acurácia na base de teste: 0.81 com 100 componentes.\n",
      "\n",
      "CPU times: user 10.7 s, sys: 2.63 s, total: 13.4 s\n",
      "Wall time: 2.49 s\n"
     ]
    }
   ],
   "source": [
    "%%time\n",
    "\n",
    "componentes = [1, 2, 5, 10, 50, 100]\n",
    "\n",
    "for n in componentes:\n",
    "    # Aplica o PCA com n componentes aos dados de treinamento\n",
    "    prcomp = PCA(n_components=n).fit(X_train)\n",
    "    \n",
    "    # Transforma os dados de treinamento, validação e teste utilizando as componentes principais encontradas pelo PCA\n",
    "    pc_treino = prcomp.transform(X_train)\n",
    "    pc_valida = prcomp.transform(X_valid)\n",
    "    pc_teste  = prcomp.transform(X_test)\n",
    "    \n",
    "    # Cria árvore de decisão com ccp_alpha=0.001 e treina-a com os dados de treinamento transformados\n",
    "    clf = DecisionTreeClassifier(ccp_alpha= 0.001, random_state=100)\n",
    "    clf = clf.fit(pc_treino, y_train)\n",
    "\n",
    "    # Avaliação da acurácia do classificador nos dados de treinamento\n",
    "    print(f'Acurácia na base de treinamento: {round(clf.score(pc_treino, y_train), 2)} com {n} componentes.')\n",
    "    \n",
    "    # Avaliação da acurácia do classificador nos dados de validação \n",
    "    print(f'Acurácia na base de validação: {round(clf.score(pc_valida, y_valid), 2)} com {n} componentes.')\n",
    "    \n",
    "    # Avaliação da acurácia do classificador nos dados de teste\n",
    "    print(f'Acurácia na base de teste: {round(clf.score(pc_teste, y_test), 2)} com {n} componentes.\\n')"
   ]
  },
  {
   "cell_type": "markdown",
   "metadata": {},
   "source": [
    "## Conclua\n",
    "\n",
    "- O que aconteceu com a acurácia?\n",
    "- O que aconteceu com o tempo de processamento?"
   ]
  },
  {
   "cell_type": "markdown",
   "metadata": {},
   "source": [
    "- Ao reduzir a dimensionalidade utilizando a técnica de Análise de Componentes Principais (PCA), observamos que a principal mudança e mais perceptível ocorre em relação ao tempo de processamento. A árvore de decisão executada com o conjunto de dados completo, contendo todas as 561 variáveis, levou aproximadamente 2,40 segundos para ser executada, resultando em uma acurácia de 87% na base de teste e 94% na base de validação. Ao utilizar o PCA com apenas um componente, o tempo de processamento foi reduzido para pouco menos de 160 ms, porém a acurácia na base de teste foi de 46% e na de validação foi 49%.\n",
    "\n",
    "- Aumentando o número de componentes, foi possível aumentar gradualmente a acurácia nas bases de teste e validação. Com 50 componentes, foi atingida uma acurácia de até 81% na base de teste e 86% na de validação, com um tempo de processamento de quae 3 segundos para executar todas as 6 combinações de números diferentes de componentes. Os resultados com 100 componentes não foram muito diferentes do que com 50 componentes. \n",
    "- Portanto, podemos concluir que é possível obter uma acurácia próxima à árvore com todas as variáveis do conjunto de dados, porém com um tempo de processamento significativamente reduzido. "
   ]
  }
 ],
 "metadata": {
  "kernelspec": {
   "display_name": "Python 3 (ipykernel)",
   "language": "python",
   "name": "python3"
  },
  "language_info": {
   "codemirror_mode": {
    "name": "ipython",
    "version": 3
   },
   "file_extension": ".py",
   "mimetype": "text/x-python",
   "name": "python",
   "nbconvert_exporter": "python",
   "pygments_lexer": "ipython3",
   "version": "3.11.5"
  },
  "toc": {
   "base_numbering": 1,
   "nav_menu": {},
   "number_sections": true,
   "sideBar": true,
   "skip_h1_title": true,
   "title_cell": "Índice",
   "title_sidebar": "Conteúdo",
   "toc_cell": false,
   "toc_position": {},
   "toc_section_display": true,
   "toc_window_display": false
  },
  "varInspector": {
   "cols": {
    "lenName": 16,
    "lenType": 16,
    "lenVar": 40
   },
   "kernels_config": {
    "python": {
     "delete_cmd_postfix": "",
     "delete_cmd_prefix": "del ",
     "library": "var_list.py",
     "varRefreshCmd": "print(var_dic_list())"
    },
    "r": {
     "delete_cmd_postfix": ") ",
     "delete_cmd_prefix": "rm(",
     "library": "var_list.r",
     "varRefreshCmd": "cat(var_dic_list()) "
    }
   },
   "types_to_exclude": [
    "module",
    "function",
    "builtin_function_or_method",
    "instance",
    "_Feature"
   ],
   "window_display": false
  }
 },
 "nbformat": 4,
 "nbformat_minor": 4
}
