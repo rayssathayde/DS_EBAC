{
 "cells": [
  {
   "cell_type": "markdown",
   "id": "7f399f52",
   "metadata": {},
   "source": [
    "### Atividade 1 - Monte um passo a passo para o Bagging"
   ]
  },
  {
   "cell_type": "markdown",
   "id": "04f6c0bc",
   "metadata": {},
   "source": [
    "O Bagging - Bootstrap Aggregating - apresenta os seguintes passos:\n",
    "\n",
    "- Bootstrap: criação de amostras aleatórias de treinamento com reposição a partir do conjunto de dados de treinamento original. Essas novas amostras têm o mesmo tamanho do conjunto de dados original, mas cada linha pode se repetir, umas vez que a amostragem com reposição permite que cada observação seja selecionada mais de uma vez.\n",
    "- Modelagem: montagem de um modelo para cada amostra bootstrap criada, de forma independente. Podem ser modelos de árvore de decisão, regressão, etc. Esses modelos são chamados de base learners.\n",
    "- Agregação (Aggregating): os resultados dos modelos individuais são agregados para formar uma única previsão, mais robusta e confiável. No caso de problemas de classificação, a agregação geralmente é feita por votação , onde a classe mais comum entre os modelos é selecionada. Para problemas de regressão, a agregação é feita calculando-se a média dos resultados dos modelos."
   ]
  },
  {
   "cell_type": "markdown",
   "id": "3e71b3df",
   "metadata": {},
   "source": [
    "### Atividade 2 - Explique com suas palavras o Bagging"
   ]
  },
  {
   "cell_type": "markdown",
   "id": "5f1101d1",
   "metadata": {},
   "source": [
    "O Bagging é um exemplo de técnica de ensemble, em que modelos são combinados em um algoritmo com o objetivo de obter um modelo final, mais confiável e com melhores resultados. \n",
    "No caso do Bagging, são criadas amostras do mesmo tamanho do dataset, por meio de amostragem com reposição. Cada amostra será utilizada para treinar um modelo de forma independente. No final, os modelos são agregados, dando origem a um modelo final mais robusto, que entenda melhor os dados e evite o under ou overfitting. "
   ]
  },
  {
   "cell_type": "markdown",
   "id": "022a8543",
   "metadata": {},
   "source": [
    "### Atividade 3 - Implementar em python o código do Bagging"
   ]
  },
  {
   "cell_type": "code",
   "execution_count": 24,
   "id": "a3cbbe4f",
   "metadata": {},
   "outputs": [],
   "source": [
    "import numpy as np\n",
    "from sklearn.tree import DecisionTreeClassifier\n",
    "from sklearn.datasets import load_digits\n",
    "from sklearn.model_selection import train_test_split\n",
    "from sklearn.metrics import accuracy_score"
   ]
  },
  {
   "cell_type": "code",
   "execution_count": 25,
   "id": "d8aea4a7",
   "metadata": {},
   "outputs": [],
   "source": [
    "# Função para realizar bootstrap - amostragem com reposição\n",
    "\n",
    "def bootstrap_sampling(X, y):\n",
    "    n_samples = X.shape[0] #saber a quantidade de amostras no dataset\n",
    "    indices = np.random.choice(n_samples, size=n_samples, replace=True) #amostragem com reposição - gera números aleatórios com a mesma quantidade original (do n_samples) e com reposição - replace=True\n",
    "    return X[indices], y[indices] #retorna datasets do mesmo tamanho do inicial "
   ]
  },
  {
   "cell_type": "code",
   "execution_count": 26,
   "id": "c49aa49b",
   "metadata": {},
   "outputs": [],
   "source": [
    "# Função para treinar um modelo de classificação em uma amostra bootstrap\n",
    "\n",
    "def train_base_classifier(X, y):\n",
    "    base_classifier = DecisionTreeClassifier()\n",
    "    base_classifier.fit(X, y)\n",
    "    return base_classifier"
   ]
  },
  {
   "cell_type": "code",
   "execution_count": 27,
   "id": "35f653d5",
   "metadata": {},
   "outputs": [],
   "source": [
    "# Função para fazer previsões usando o conjunto de modelos de classificação\n",
    "\n",
    "def predict_base_classifiers(base_classifiers, X):\n",
    "    predictions = np.zeros((X.shape[0], len(base_classifiers)), dtype=int) # cria matriz de zeros para armazenar as previsões dos modelos de classificação \n",
    "    for i, classifier in enumerate(base_classifiers): # itera sobre todos os modelos na lista base_classifiers\n",
    "        predictions[:, i] = classifier.predict(X) # cada modelo classifier é usado para fazer previsões no conjunto de dados X. As previsões resultantes são armazenadas na coluna correspondente da matriz predictions\n",
    "    return np.mean(predictions, axis=1) # Após todas as previsões terem sido feitas e armazenadas na matriz predictions, calcula-se a média das previsões para cada exemplo"
   ]
  },
  {
   "cell_type": "code",
   "execution_count": 28,
   "id": "aa14006c",
   "metadata": {},
   "outputs": [],
   "source": [
    "# Carregando o conjunto de dados digits\n",
    "\n",
    "digits = load_digits()\n",
    "X, y = digits.data, digits.target"
   ]
  },
  {
   "cell_type": "code",
   "execution_count": 29,
   "id": "9bb26e32",
   "metadata": {},
   "outputs": [],
   "source": [
    "# Dividindo o conjunto de dados em treino e teste \n",
    "\n",
    "X_train, X_test, y_train, y_test = train_test_split(X, y, test_size=0.25, random_state=42)"
   ]
  },
  {
   "cell_type": "code",
   "execution_count": 30,
   "id": "1a60098d",
   "metadata": {},
   "outputs": [],
   "source": [
    "# Definindo número de modelos de classificação\n",
    "\n",
    "num_base_classifiers = 10"
   ]
  },
  {
   "cell_type": "code",
   "execution_count": 31,
   "id": "f5e6cf7c",
   "metadata": {},
   "outputs": [],
   "source": [
    "# Lista para armazenar os modelos \n",
    "\n",
    "base_classifiers = []"
   ]
  },
  {
   "cell_type": "code",
   "execution_count": 32,
   "id": "45121956",
   "metadata": {},
   "outputs": [],
   "source": [
    "# Treinando os modelos - usando as funções criadas inicialmente \n",
    "\n",
    "for _ in range(num_base_classifiers):\n",
    "    X_bootstrap, y_bootstrap = bootstrap_sampling(X_train, y_train)\n",
    "    base_classifier = train_base_classifier(X_bootstrap, y_bootstrap)\n",
    "    base_classifiers.append(base_classifier) # incluindo modelo na lista criada acima "
   ]
  },
  {
   "cell_type": "code",
   "execution_count": 33,
   "id": "835713c6",
   "metadata": {},
   "outputs": [],
   "source": [
    "# Fazendo previsões usando os modelos e a função criada inicialmente\n",
    "\n",
    "predictions = predict_base_classifiers(base_classifiers, X_test)"
   ]
  },
  {
   "cell_type": "code",
   "execution_count": 35,
   "id": "3443d2ed",
   "metadata": {},
   "outputs": [],
   "source": [
    "# Convertendo as previsões para as classes\n",
    "\n",
    "predictions_classes = np.round(predictions).astype(int)"
   ]
  },
  {
   "cell_type": "code",
   "execution_count": 38,
   "id": "f9d3026f",
   "metadata": {},
   "outputs": [
    {
     "name": "stdout",
     "output_type": "stream",
     "text": [
      "Acurácia do Bagging: 0.7\n"
     ]
    }
   ],
   "source": [
    "# Calculando a acurácia para avaliar qualidade do modelo final - que juntou os outros\n",
    "\n",
    "accuracy = accuracy_score(y_test, predictions_classes)\n",
    "print(\"Acurácia do Bagging:\", accuracy)"
   ]
  }
 ],
 "metadata": {
  "kernelspec": {
   "display_name": "Python 3 (ipykernel)",
   "language": "python",
   "name": "python3"
  },
  "language_info": {
   "codemirror_mode": {
    "name": "ipython",
    "version": 3
   },
   "file_extension": ".py",
   "mimetype": "text/x-python",
   "name": "python",
   "nbconvert_exporter": "python",
   "pygments_lexer": "ipython3",
   "version": "3.11.5"
  }
 },
 "nbformat": 4,
 "nbformat_minor": 5
}
