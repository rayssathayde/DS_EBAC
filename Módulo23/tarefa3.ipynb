{
 "cells": [
  {
   "cell_type": "markdown",
   "id": "8ed5801d",
   "metadata": {},
   "source": [
    "### Atividade 1 - Quais são os hyperparâmetrosdo Random Forest?"
   ]
  },
  {
   "cell_type": "markdown",
   "id": "27cf7ca9",
   "metadata": {},
   "source": [
    "Os hyperparâmetros do algoritmo Random Forest são:\n",
    "\n",
    "- n_estimators\n",
    "- criterion\n",
    "- max_depth\n",
    "- min_samples_split\n",
    "- min_samples_leaf\n",
    "- min_weight_fraction_leaf\n",
    "- max_features\n",
    "- max_leaf_nodes\n",
    "- min_impurity_decrease\n",
    "- bootstrap\n",
    "- oob_score\n",
    "- n_jobs\n",
    "- random_state\n",
    "- verbose\n",
    "- warm_start\n",
    "- class_weight\n",
    "- ccp_alpha\n",
    "- max_samples"
   ]
  },
  {
   "cell_type": "markdown",
   "id": "e4b7fa6e",
   "metadata": {},
   "source": [
    "### Atividade 2 - Pra que serve cada um deles?"
   ]
  },
  {
   "cell_type": "markdown",
   "id": "e5335011",
   "metadata": {},
   "source": [
    "- n_estimators: número de árvores de decisão no modelo\n",
    "- criterion: Avaliar a qualidade das divisões nos nós da árvore\n",
    "- max_depth: Limitar a profundidade máxima da árvore\n",
    "- min_samples_split: número mínimo de amostras para que ocorra a quebra de um nó na árvore\n",
    "- min_samples_leaf: número mínimo de amostras em uma folha \n",
    "- min_weight_fraction_leaf: número decimal para definir o \"peso\" (importância) mínimo necessário de uma folha\n",
    "- max_features: número máximo de variáveis/colunas (feature selection) \n",
    "- max_leaf_nodes: úmero máximo de nós na árvore\n",
    "- min_impurity_decrease: valor mínimo de redução da impureza que define se haverá divisão do nó de acordo com a métrica utilizada\n",
    "- bootstrap: se o método Bootstrap será utilizado\n",
    "- oob_score: se o método out-of-bag será utilizado caso Bootstrap também estiver em uso\n",
    "- n_jobs: número de processos que podem trabalhar em paralelo caso haja processamento disponível\n",
    "- random_state: controla a aleatoriedade dos métodos Bootstrap e feature selection possibilitando a reprodução dos mesmos resultados do modelo\n",
    "- verbose: controla o detalhamento das mensagens nos processos de treino e previsão do modelo\n",
    "- warm_start: possibilita o reuso do treino anterior adicionando mais árvores ao modelo\n",
    "- class_weight: define o peso de cada classe\n",
    "- ccp_alpha: parâmetro de complexidade usado para controlar a pós-poda da árvore. Quanto maior o valor, maior será a poda\n",
    "- max_samples: número máximo de amostras para treinar o modelo caso o método Bootstrap seja utilizado"
   ]
  }
 ],
 "metadata": {
  "kernelspec": {
   "display_name": "Python 3 (ipykernel)",
   "language": "python",
   "name": "python3"
  },
  "language_info": {
   "codemirror_mode": {
    "name": "ipython",
    "version": 3
   },
   "file_extension": ".py",
   "mimetype": "text/x-python",
   "name": "python",
   "nbconvert_exporter": "python",
   "pygments_lexer": "ipython3",
   "version": "3.11.5"
  }
 },
 "nbformat": 4,
 "nbformat_minor": 5
}
