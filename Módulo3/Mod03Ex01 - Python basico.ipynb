{
 "cells": [
  {
   "cell_type": "markdown",
   "metadata": {},
   "source": [
    "### 01 - Teste de gravidez\n",
    "Escreva uma célula com controle de fluxos que tem como premissa a existência das seguintes variáveis:\n",
    "\n",
    "- ```sexo``` como ```str``` indicando os valores '**M**' para masculino e '**F**' para feminino  \n",
    "- ```beta_hcg``` que indica a quantidade do beta-HCG no sangue em mUI/mL.\n",
    "\n",
    "A sua tarefa é escrever um código que imprima como resultado \"indivíduo do sexo masculino\" quando sexo = 'M', caso sexo = 'F', se o valor de beta-HCG for maior que 5, retorne \"Positivo\" indicando que a paciente está grávida, e retorne \"Negativo\" caso contrário.\n",
    "\n",
    "Não mexa nos valores da variável ```sexo``` nem em ```beta_hcg```, e escreva um código que funcione para quaisquer valores possíveis de ambos: ```sexo``` = '**M**' ou '**F**' e ```beta_hcg``` assumindo valores inteiros positivos."
   ]
  },
  {
   "cell_type": "code",
   "execution_count": 6,
   "metadata": {},
   "outputs": [
    {
     "name": "stdout",
     "output_type": "stream",
     "text": [
      "Indivíduo do sexo masculino\n"
     ]
    }
   ],
   "source": [
    "sexo = 'M'\n",
    "beta_hcg = 0\n",
    "\n",
    "# seu código vem abaixo desta linha\n",
    "\n",
    "if sexo == 'M':\n",
    "    print(\"Indivíduo do sexo masculino\")\n",
    "elif sexo == \"F\":\n",
    "    if beta_hcg > 5:\n",
    "        print(\"Positivo\")\n",
    "    if beta_hcg < 5:\n",
    "        print(\"Negativo\")\n",
    "    \n"
   ]
  },
  {
   "cell_type": "markdown",
   "metadata": {},
   "source": [
    "### 02 - Renomeando variáveis\n",
    "\n",
    "Vamos ver adiante que uma forma de renomear variáveis de um conjunto de dados é através de dicionários - o dicionário deve conter como chave o nome original, associando a cada chave um único valor (tipo *str*) que contenha o nome novo.\n",
    "\n",
    "A sua tarefa é escrever um dicionário que possa ser utilizado para traduzir as variáveis ```name``` (nome), ```age``` (idade) e ```income``` (renda). Ou seja, esse dicionário deve relacionar as chaves *name, age* e *income* às suas respectivas traduções."
   ]
  },
  {
   "cell_type": "code",
   "execution_count": 38,
   "metadata": {},
   "outputs": [
    {
     "data": {
      "text/plain": [
       "{'name': 'nome', 'age': 'idade', 'income': 'renda'}"
      ]
     },
     "execution_count": 38,
     "metadata": {},
     "output_type": "execute_result"
    }
   ],
   "source": [
    "dic_renomeacao = {'name': 'nome', 'age': 'idade', 'income': 'renda'}\n",
    "dic_renomeacao"
   ]
  },
  {
   "cell_type": "code",
   "execution_count": 39,
   "metadata": {},
   "outputs": [
    {
     "name": "stdout",
     "output_type": "stream",
     "text": [
      "nome\n",
      "idade\n",
      "renda\n"
     ]
    }
   ],
   "source": [
    "print(dic_renomeacao['name'])\n",
    "print(dic_renomeacao['age'])\n",
    "print(dic_renomeacao['income'])"
   ]
  },
  {
   "cell_type": "markdown",
   "metadata": {},
   "source": [
    "### 03 - É divisível?\n",
    "A sua tarefa é escrever um código que indique se um número ```N``` é divisível por um número P. Escreva um programa que faça essa verificação para quaisquer combinações de ```N``` e ```M``` e devolva uma mensagem indicativa no output."
   ]
  },
  {
   "cell_type": "code",
   "execution_count": 20,
   "metadata": {},
   "outputs": [
    {
     "name": "stdout",
     "output_type": "stream",
     "text": [
      "42 é divisível por 7\n",
      "42 dividido por 7 é igual a 6.0\n"
     ]
    }
   ],
   "source": [
    "N = 42\n",
    "M = 7\n",
    "\n",
    "#Seu código\n",
    "\n",
    "if N % M == 0:\n",
    "    x = N / M \n",
    "    print(f'{N} é divisível por {M}')\n",
    "    print(f'{N} dividido por {M} é igual a {x}')\n",
    "else:\n",
    "    print(f'{N} não é divisível por {M}.')\n",
    "\n"
   ]
  },
  {
   "cell_type": "markdown",
   "metadata": {},
   "source": [
    "### 04 - Números primos\n",
    "> Um número **N** é primo se e somente se é divisível por 1, -1, por **N** e por -**N**.  \n",
    "\n",
    "Escreva um script que verifica se ```N``` é um número primo, verificando se ```N``` é divisível por todos os números de ```1``` a ```N-1```. Você vai precisar usar alguma ferramenta de *loop* que você aprendeu para isto. No final, devolva uma mensagem no output indicando se o número é primo ou não."
   ]
  },
  {
   "cell_type": "code",
   "execution_count": 157,
   "metadata": {},
   "outputs": [
    {
     "name": "stdout",
     "output_type": "stream",
     "text": [
      "47 é primo\n"
     ]
    }
   ],
   "source": [
    "N = 47\n",
    "\n",
    "# seu código abaixo\n",
    "\n",
    "numero_divisivel = 0\n",
    "\n",
    "for i in range(1, N+1):\n",
    "    if N % i == 0:\n",
    "        numero_divisivel += 1 #quantidade de números dentro do conjunto que N é divisível\n",
    "\n",
    "if numero_divisivel == 2: # se for apenas 2 (1 e ele mesmo) N é primo\n",
    "    print(f'{N} é primo')\n",
    "else:\n",
    "    print(f'{N} não é primo')      \n"
   ]
  },
  {
   "cell_type": "markdown",
   "metadata": {},
   "source": [
    "### 05 - Desafio\n",
    "O algorítmo do exercício anterior não é o mais eficiente. O que você pode fazer para deixá-lo mais eficiente? Ou seja, executar menos comparações, portanto consumir menos tempo.\n",
    "1. Será que precisamos correr o loop até o final sempre?\n",
    "2. Será que precisamos mesmo verificar **todos** os números?\n",
    "3. Será que precisamos ir até N-1?\n",
    "\n",
    "Essas perguntas levam ao tipo de pensamento voltado a deixar um algoritmo mais eficiente. Veja se você consegue melhorar o seu."
   ]
  },
  {
   "cell_type": "code",
   "execution_count": 204,
   "metadata": {},
   "outputs": [
    {
     "name": "stdout",
     "output_type": "stream",
     "text": [
      "98 não é primo\n"
     ]
    }
   ],
   "source": [
    "N = 98\n",
    "\n",
    "# seu código aqui\n",
    "\n",
    "if N < 2: \n",
    "    print(f'{N} não é primo')\n",
    "elif N == 2: \n",
    "    print(f'{N} é primo')\n",
    "elif N % 2 == 0: \n",
    "    print(f'{N} não é primo')\n",
    "else: \n",
    "    for i in range(3, N-1, 2):\n",
    "        if N % i == 0:\n",
    "            print(f'{N} não é primo')\n",
    "            break \n",
    "    else:\n",
    "        print(f'{N} é primo')\n",
    "\n"
   ]
  },
  {
   "cell_type": "markdown",
   "metadata": {},
   "source": [
    "### 06 - Peso ideal 1\n",
    "O IMC (índice de massa corpórea) é um indicador de saúde mais bem aceito que o peso. Ele é calculado como:\n",
    "\n",
    "$$ IMC = \\dfrac{peso}{altura^2}$$\n",
    "\n",
    "Segundo a OMS, valores *normais* são entre 18.5 e 24.9.\n",
    "\n",
    "Sua tarefa é encontrar o ponto médio dessa faixa."
   ]
  },
  {
   "cell_type": "code",
   "execution_count": 205,
   "metadata": {},
   "outputs": [
    {
     "data": {
      "text/plain": [
       "21.7"
      ]
     },
     "execution_count": 205,
     "metadata": {},
     "output_type": "execute_result"
    }
   ],
   "source": [
    "imc_ideal = (18.5 + 24.9)/2\n",
    "imc_ideal"
   ]
  },
  {
   "cell_type": "markdown",
   "metadata": {},
   "source": [
    "### 07 - Peso ideal 2\n",
    "Recebendo um valor de altura, encontre o peso '*ideal*' dessa pessoa, que fornece o IMC encontrado acima"
   ]
  },
  {
   "cell_type": "code",
   "execution_count": 221,
   "metadata": {},
   "outputs": [
    {
     "data": {
      "text/plain": [
       "62.7"
      ]
     },
     "execution_count": 221,
     "metadata": {},
     "output_type": "execute_result"
    }
   ],
   "source": [
    "altura = 1.70\n",
    "\n",
    "# Seu código\n",
    "\n",
    "peso_ideal = round((altura ** 2) * 21.7, 1)\n",
    "peso_ideal"
   ]
  },
  {
   "cell_type": "markdown",
   "metadata": {},
   "source": [
    "### 08 - Peso ideal 3\n",
    "Dada uma lista contendo as alturas de pacientes, crie uma nova lista que contenha o peso '*ideal*' (que fornece o IMC calculado em **Peso ideal 1**) desses pacientes."
   ]
  },
  {
   "cell_type": "code",
   "execution_count": 217,
   "metadata": {},
   "outputs": [
    {
     "data": {
      "text/plain": [
       "[82.5, 91.2, 62.7, 59.1]"
      ]
     },
     "execution_count": 217,
     "metadata": {},
     "output_type": "execute_result"
    }
   ],
   "source": [
    "lista_alturas = [1.95, 2.05, 1.70, 1.65]\n",
    "\n",
    "lista_peso_ideal = []\n",
    "\n",
    "# seu código\n",
    "for altura in lista_alturas:\n",
    "    peso_ideal = round((altura ** 2) * 21.7, 1)\n",
    "    lista_peso_ideal.append(peso_ideal)\n",
    "\n",
    "lista_peso_ideal"
   ]
  },
  {
   "cell_type": "markdown",
   "metadata": {},
   "source": [
    "### 09 - Peso ideal 4\n",
    "Dada uma lista de tuplas - cada elemento da lista é uma tupla contendo altura e peso de um paciente - crie uma nova lista com o IMC desses pacientes."
   ]
  },
  {
   "cell_type": "code",
   "execution_count": 223,
   "metadata": {},
   "outputs": [
    {
     "data": {
      "text/plain": [
       "[27.8, 27.5, 19.2]"
      ]
     },
     "execution_count": 223,
     "metadata": {},
     "output_type": "execute_result"
    }
   ],
   "source": [
    "altura_peso = [(1.80, 90), (1.65, 75), (1.91, 70)]\n",
    "\n",
    "imc = []\n",
    "\n",
    "# seu código\n",
    "for tupla in altura_peso:\n",
    "    imc_tupla = round(tupla[1]/(tupla[0] ** 2), 1)\n",
    "    imc.append(imc_tupla)\n",
    "    \n",
    "imc"
   ]
  },
  {
   "cell_type": "markdown",
   "metadata": {},
   "source": [
    "### 10 - Peso ideal 5\n",
    "Dada uma lista de **listas** - cada elemento da lista é uma **lista** contendo altura e peso de um paciente, adicione mais um elemento à lista de cada paciente contendo o IMC do paciente. Verifique também se é 'baixo', 'normal' ou 'alto' segundo os padrões da OMS em que normal é entre 18.5 e 24.9.\n",
    "\n",
    "Reflexão: por que no problema anterior temos que criar uma nova lista, e não podemos adicionar os dados de cada indivíduo à tupla?\n",
    "\n",
    "**Porque as tuplas são imutáveis, não podemos adicionar itens a elas.**"
   ]
  },
  {
   "cell_type": "code",
   "execution_count": 229,
   "metadata": {},
   "outputs": [
    {
     "data": {
      "text/plain": [
       "[[1.8, 90, 27.8, 'alto'], [1.65, 75, 27.5, 'alto'], [1.91, 70, 19.2, 'normal']]"
      ]
     },
     "execution_count": 229,
     "metadata": {},
     "output_type": "execute_result"
    }
   ],
   "source": [
    "altura_peso = [[1.80, 90], [1.65, 75], [1.91, 70]]\n",
    "\n",
    "# seu código\n",
    "for lista in altura_peso:\n",
    "    imc_lista = round(lista[1]/(lista[0] ** 2), 1)\n",
    "    lista.append(imc_lista)\n",
    "    if imc_lista < 18.5:\n",
    "        lista.append('baixo')\n",
    "    elif 24.9 > imc_lista > 18.5:\n",
    "        lista.append('normal')\n",
    "    elif imc_lista > 24.9:\n",
    "        lista.append('alto')\n",
    "    \n",
    "\n",
    "altura_peso"
   ]
  }
 ],
 "metadata": {
  "kernelspec": {
   "display_name": "Python 3 (ipykernel)",
   "language": "python",
   "name": "python3"
  },
  "language_info": {
   "codemirror_mode": {
    "name": "ipython",
    "version": 3
   },
   "file_extension": ".py",
   "mimetype": "text/x-python",
   "name": "python",
   "nbconvert_exporter": "python",
   "pygments_lexer": "ipython3",
   "version": "3.9.12"
  }
 },
 "nbformat": 4,
 "nbformat_minor": 4
}
