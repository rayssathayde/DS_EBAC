{
 "cells": [
  {
   "cell_type": "markdown",
   "id": "2521c347",
   "metadata": {},
   "source": [
    "# <font color='blue'>Fórmula de Bhaskara</font>\n"
   ]
  },
  {
   "cell_type": "markdown",
   "id": "f1c800f5",
   "metadata": {},
   "source": [
    "A solução para uma função de segundo grau depende das suas raízes (valores de x). Como já vimos, os coeficientes precisam ser números reais e o angular diferente de zero. Sendo assim, temos a seguinte fórmula de Bhaskara:"
   ]
  },
  {
   "cell_type": "markdown",
   "id": "70d7d6ac",
   "metadata": {},
   "source": [
    "$$ \\huge x= \\frac{-b \\pm \\sqrt{b^2-4.a.c}}{2.a} $$\n",
    "   "
   ]
  },
  {
   "cell_type": "markdown",
   "id": "2eedafb7",
   "metadata": {},
   "source": [
    "<center><i>Fórmula de Bhaskara</i></center>\n"
   ]
  },
  {
   "cell_type": "markdown",
   "id": "9fc16058",
   "metadata": {},
   "source": [
    "Para melhor compreensão o seu cálculo é dividido em duas partes: discriminante da equação e operações para\n",
    "determinar as raízes."
   ]
  },
  {
   "cell_type": "markdown",
   "id": "9a969c1e",
   "metadata": {},
   "source": [
    "**Discriminante**"
   ]
  },
  {
   "cell_type": "markdown",
   "id": "2a1c4cf2",
   "metadata": {},
   "source": [
    "A figura dentro da raiz na fórmula de Bhaskara é nomeada de discriminante. Seu símbolo é a letra grega delta e apresenta a determinada fórmula:"
   ]
  },
  {
   "cell_type": "markdown",
   "id": "17808ee8",
   "metadata": {},
   "source": [
    "$$ \\huge \\Delta = b^2 - 4.a.c $$"
   ]
  },
  {
   "cell_type": "markdown",
   "id": "f50c3e81",
   "metadata": {},
   "source": [
    "<center><i>Fórmula da discriminante</i></center>"
   ]
  },
  {
   "cell_type": "markdown",
   "id": "50dd7a7b",
   "metadata": {},
   "source": [
    "- Se o delta for maior que zero, a equação terá dois valores reais e distintos.\n",
    "- Se o delta for igual a zero, a equação terá somente um valor real ou dois resultados iguais.\n",
    "- Se o delta for menor que zero, a equação não possuirá valores reais."
   ]
  }
 ],
 "metadata": {
  "kernelspec": {
   "display_name": "Python 3 (ipykernel)",
   "language": "python",
   "name": "python3"
  },
  "language_info": {
   "codemirror_mode": {
    "name": "ipython",
    "version": 3
   },
   "file_extension": ".py",
   "mimetype": "text/x-python",
   "name": "python",
   "nbconvert_exporter": "python",
   "pygments_lexer": "ipython3",
   "version": "3.11.5"
  }
 },
 "nbformat": 4,
 "nbformat_minor": 5
}
