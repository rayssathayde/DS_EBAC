{
 "cells": [
  {
   "cell_type": "markdown",
   "id": "a55b937d",
   "metadata": {},
   "source": [
    "### Atividade 1 - Cite 5 diferenças entre o AdaBoost e o GBM"
   ]
  },
  {
   "cell_type": "markdown",
   "id": "07d9af94",
   "metadata": {},
   "source": [
    "AdaBoost vs GBM\n",
    "\n",
    "1. AdaBoost utiliza uma floresta de *stumps*, que são árvores de decisão com apenas 1 de profundidade e 2 folhas. GBM utiliza uma floresta de árvores de decisão com a possibilidade de serem completas ou podadas.  \n",
    "2. AdaBoost tem como primeiro passo a seleção de um *stump* com o melhor desempenho. No GBM o primeiro passo é o cálculo da média do Y (variável resposta). \n",
    "3. No AdaBosst cada resposta tem um peso diferente para a agregação final da predição.\tNo GBM a predição das respostas das árvores é calculada através de um multiplicador em comum chamado `learning_rate` (eta).\n",
    "4. No AdaBoost as árvores (*stumps*) são influenciadas entre si sequencialmente e os datasets sequenciais são criados por Booststrap com peso, baseado no cálculo de performance do melhor *stump*, onde exemplos classificados incorretamente têm maior probabilidade de serem selecionados. No GBM as novas árvores são criadas a partir do resíduo da predição da árvore anterior (o primeiro resíduo é calculado a partir da média de Y).\n",
    "5. AdaBoost utiliza como predição final uma votação majoritária ponderada das respostas de acordo com a performance de cada *stump*. No GBM a predição é baseada no ajuste do modelo através da redução dos erros residuais."
   ]
  },
  {
   "cell_type": "markdown",
   "id": "2108ef39",
   "metadata": {},
   "source": [
    "### Atividade 2 - Acesse o [link Scikit-learn–adaboost](https://scikit-learn.org/stable/modules/ensemble.html), leia a explicação (traduza se for preciso) e crie um jupyternotebook contendo o exemplo de classificação e de regressão do GBM"
   ]
  },
  {
   "cell_type": "code",
   "execution_count": 3,
   "id": "a16e6543",
   "metadata": {},
   "outputs": [
    {
     "data": {
      "text/plain": [
       "0.913"
      ]
     },
     "execution_count": 3,
     "metadata": {},
     "output_type": "execute_result"
    }
   ],
   "source": [
    "#Classificação\n",
    "\n",
    "from sklearn.datasets import make_hastie_10_2\n",
    "from sklearn.ensemble import GradientBoostingClassifier\n",
    "\n",
    "X, y = make_hastie_10_2(random_state=0)\n",
    "X_train, X_test = X[:2000], X[2000:]\n",
    "y_train, y_test = y[:2000], y[2000:]\n",
    "\n",
    "clf = GradientBoostingClassifier(n_estimators=100, \n",
    "                                 learning_rate=1.0, \n",
    "                                 max_depth=1, \n",
    "                                 random_state=0).fit(X_train, y_train)\n",
    "clf.score(X_test, y_test)"
   ]
  },
  {
   "cell_type": "code",
   "execution_count": 2,
   "id": "11a890c9",
   "metadata": {},
   "outputs": [
    {
     "data": {
      "text/plain": [
       "5.009154859960321"
      ]
     },
     "execution_count": 2,
     "metadata": {},
     "output_type": "execute_result"
    }
   ],
   "source": [
    "#Regressão\n",
    "\n",
    "import numpy as np\n",
    "from sklearn.metrics  import mean_squared_error\n",
    "from sklearn.datasets import make_friedman1\n",
    "from sklearn.ensemble import GradientBoostingRegressor\n",
    "\n",
    "X, y = make_friedman1(n_samples=1200, random_state=0, noise=1.0)\n",
    "X_train, X_test = X[:200], X[200:]\n",
    "y_train, y_test = y[:200], y[200:]\n",
    "\n",
    "est = GradientBoostingRegressor(n_estimators=100, \n",
    "                                learning_rate=0.1, \n",
    "                                max_depth=1, \n",
    "                                random_state=0, \n",
    "                                loss='squared_error').fit(X_train, y_train)\n",
    "\n",
    "mean_squared_error(y_test, est.predict(X_test))"
   ]
  },
  {
   "cell_type": "markdown",
   "id": "878e198c",
   "metadata": {},
   "source": [
    "### Atividade 3 - Cite 5 Hyperparametros importantes no GBM"
   ]
  },
  {
   "cell_type": "markdown",
   "id": "37b2916d",
   "metadata": {},
   "source": [
    "1. `n_estimators`: controla o número de árvores no modelo (valor maior pode aumentar tanto o tempo de treinamento quanto a capacidade de aprendizado do modelo)\n",
    "2. `learning_rate`: deve estar no intervalo de 0.0 a 1.0; controla a taxa de aprendizado do modelo e interage fortemente com o número de estimadores (`n_estimators`) \n",
    "3. `max_depth`: controla a profundidade máxima de cada árvore no modelo, especificando o número máximo de nós\n",
    "4. `max_features`: controla o número de variáveis consideradas ao fazer uma divisão em cada nó das árvores\n",
    "5. `criterion`: mede a qualidade de quebra dos nós das árvores"
   ]
  },
  {
   "cell_type": "markdown",
   "id": "6dc91297",
   "metadata": {},
   "source": [
    "### Atividade 4 - Utilize o GridSearch para encontrar os melhores hyperparametros para o conjunto de dados do exemplo "
   ]
  },
  {
   "cell_type": "code",
   "execution_count": 6,
   "id": "019d4f94",
   "metadata": {},
   "outputs": [],
   "source": [
    "from sklearn.model_selection import GridSearchCV\n",
    "import pandas as pd"
   ]
  },
  {
   "cell_type": "code",
   "execution_count": 9,
   "id": "8838291f",
   "metadata": {},
   "outputs": [
    {
     "name": "stdout",
     "output_type": "stream",
     "text": [
      "GradientBoostingClassifier(learning_rate=0.8, max_depth=1, n_estimators=501)\n",
      "0.9446\n",
      "CPU times: user 5min 45s, sys: 170 ms, total: 5min 45s\n",
      "Wall time: 5min 47s\n"
     ]
    }
   ],
   "source": [
    "%%time\n",
    "\n",
    "X, y = make_hastie_10_2(random_state=0)\n",
    "X_train, X_test = X[:2000], X[2000:]\n",
    "y_train, y_test = y[:2000], y[2000:]\n",
    "\n",
    "clf = GradientBoostingClassifier()\n",
    "params = {\n",
    "    'n_estimators':list(range(1, 1000, 100)),\n",
    "    'learning_rate': [i/10 for i in range(1, 11)],\n",
    "    'max_depth': [1] \n",
    "}\n",
    "\n",
    "grid_clf = GridSearchCV(estimator=clf,\n",
    "                        param_grid=params,\n",
    "                        scoring='accuracy',\n",
    "                        cv=5)\n",
    "\n",
    "grid_clf.fit(X_train, y_train)\n",
    "\n",
    "print(grid_clf.best_estimator_)\n",
    "print(grid_clf.score(X_test, y_test))"
   ]
  },
  {
   "cell_type": "markdown",
   "id": "e1c60491",
   "metadata": {},
   "source": [
    "### Atividade 5 -  Acessando o artigo do Jerome Friedman [(Stochastic)](https://jerryfriedman.su.domains/ftp/stobst.pdf) e pensando no nome dado ao Stochastic GBM, qual é a maior diferença entre os dois algoritmos?"
   ]
  },
  {
   "cell_type": "markdown",
   "id": "1777c096",
   "metadata": {},
   "source": [
    "Considerando o nome dado ao Stochastic GBM e com referência à teoria probabilística, padrão estocástico tem origem em eventos aleatórios; podemos então descrever o modelo como um algoritmo que incorpora variáveis aleatórias.<br> \n",
    "O Stochastic GBM é uma combinação do Gradient Boosting e Bootstrap Aggregating, sendo considerado um híbrido das técnicas Bagging e Boosting. Em cada iteração, o classificador base é treinado em um subconjunto aleatório e não repetitivo dos dados de treinamento, utilizando em média metade da amostra. Essa aleatoriedade na amostragem do conjunto de dados em cada iteração de treino (como o Bootstrap, porém sem reposição) melhora significativamente a precisão do Gradient Boosting e torna o modelo mais robusto em comparação com o GBM tradicional. Isso ocorre porque a aleatoriedade ajuda a evitar o overfitting e promove uma melhor generalização do modelo."
   ]
  }
 ],
 "metadata": {
  "kernelspec": {
   "display_name": "Python 3 (ipykernel)",
   "language": "python",
   "name": "python3"
  },
  "language_info": {
   "codemirror_mode": {
    "name": "ipython",
    "version": 3
   },
   "file_extension": ".py",
   "mimetype": "text/x-python",
   "name": "python",
   "nbconvert_exporter": "python",
   "pygments_lexer": "ipython3",
   "version": "3.11.5"
  }
 },
 "nbformat": 4,
 "nbformat_minor": 5
}
