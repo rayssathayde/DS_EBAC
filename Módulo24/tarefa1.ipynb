{
 "cells": [
  {
   "cell_type": "markdown",
   "id": "2ef2d421",
   "metadata": {},
   "source": [
    "### Atividade 1 - Cite 5 diferenças entre o Random Forest e o AdaBoost"
   ]
  },
  {
   "cell_type": "markdown",
   "id": "8372cc52",
   "metadata": {},
   "source": [
    "Random Forest vs AdaBoost\n",
    "\n",
    "1. Random Forest utiliza uma floresta de árvores de decisão com a possibilidade de serem completas ou podadas. AdaBoost utiliza uma floresta de *stumps*, que são árvores de decisão com apenas 1 de profundidade e 2 folhas. \n",
    "2. Random Forest utiliza árvores independentes, que podem rodar paralelamente com os datasets individualmente criados por amostragem aleatória com repetição (*Bootstrap*). No AdaBoost as árvores (*stumps*) são influenciadas entre si sequencialmente e os datasets sequenciais são criados por Booststrap com peso, baseado no cálculo de performance do melhor *stump*, onde exemplos classificados incorretamente têm maior probabilidade de serem selecionados. \n",
    "3. No Random Forest as respostas tem o mesmo peso independente da qualidade de classificação da árvore. No AdaBosst as respostas tem pesos diferentes, influenciando consequentemente nas relevâncias de cada resposta. \n",
    "4. Random Forest utiliza uma quantidade definida de variáveis aleatórias (*feature selection*) em cada árvore. AdaBoost utiliza somente uma variável explicativa para cada *stump*. \n",
    "5. Random Forest utiliza o procedimento de votação majoritária simples como previsão. AdaBoost utiliza como predição final uma votação majoritária ponderada das respostas de acordo com a performance de cada *stump*."
   ]
  },
  {
   "cell_type": "markdown",
   "id": "4655cf6a",
   "metadata": {},
   "source": [
    "### Atividade 2 - Acesse o [link Scikit-learn–adaboost](https://scikit-learn.org/stable/modules/ensemble.html), leia a explicação (traduza se for preciso) e crie um jupyternotebook contendo o exemplo do AdaBoost"
   ]
  },
  {
   "cell_type": "code",
   "execution_count": 1,
   "id": "8a0bdeb1",
   "metadata": {},
   "outputs": [],
   "source": [
    "from sklearn.model_selection import cross_val_score\n",
    "from sklearn.datasets import load_iris\n",
    "from sklearn.ensemble import AdaBoostClassifier"
   ]
  },
  {
   "cell_type": "code",
   "execution_count": 6,
   "id": "bcb4de1d",
   "metadata": {},
   "outputs": [
    {
     "data": {
      "text/plain": [
       "0.9533333333333334"
      ]
     },
     "execution_count": 6,
     "metadata": {},
     "output_type": "execute_result"
    }
   ],
   "source": [
    "X, y = load_iris(return_X_y=True)\n",
    "\n",
    "clf = AdaBoostClassifier(n_estimators=100, algorithm=\"SAMME\",)\n",
    "\n",
    "scores = cross_val_score(clf, X, y, cv=5)\n",
    "scores.mean()"
   ]
  },
  {
   "cell_type": "markdown",
   "id": "228f3671",
   "metadata": {},
   "source": [
    "### Atividade 3 - Cite 5 Hyperparametros importantes no AdaBoost"
   ]
  },
  {
   "cell_type": "markdown",
   "id": "60baf234",
   "metadata": {},
   "source": [
    "1. `n_estimators`: controla o número de \"weak learners\", ou seja, *stumps*\n",
    "2. `learning_rate`: controla a contribuição dos *stumps* na combinação final, ou seja, valor do peso\n",
    "3. `algorithm` (AdaBoostClassifier): define o algoritmo utilizado para atualizar os pesos dos exemplos durante o treinamento\n",
    "4. `loss` (AdaBoostRegressor): define a \"função de perda\" a ser usada ao atualizar os pesos após cada iteração de reforço\n",
    "5. `estimator`: por padrão, weak learners são *stumps*, mas diferentes Different weak learners podem ser especificados por esse parâmetro."
   ]
  },
  {
   "cell_type": "markdown",
   "id": "8fae06e4",
   "metadata": {},
   "source": [
    "### Atividade 4 - Utilize o GridSearch para encontrar os melhores hyperparametros para o conjunto de dados do exemplo (load_iris)"
   ]
  },
  {
   "cell_type": "code",
   "execution_count": 5,
   "id": "158438f7",
   "metadata": {},
   "outputs": [],
   "source": [
    "from sklearn.model_selection import GridSearchCV\n",
    "import pandas as pd"
   ]
  },
  {
   "cell_type": "code",
   "execution_count": 4,
   "id": "e81c84f5",
   "metadata": {},
   "outputs": [
    {
     "name": "stdout",
     "output_type": "stream",
     "text": [
      "CPU times: user 9.62 s, sys: 42.6 ms, total: 9.66 s\n",
      "Wall time: 9.69 s\n"
     ]
    },
    {
     "data": {
      "text/html": [
       "<div>\n",
       "<style scoped>\n",
       "    .dataframe tbody tr th:only-of-type {\n",
       "        vertical-align: middle;\n",
       "    }\n",
       "\n",
       "    .dataframe tbody tr th {\n",
       "        vertical-align: top;\n",
       "    }\n",
       "\n",
       "    .dataframe thead th {\n",
       "        text-align: right;\n",
       "    }\n",
       "</style>\n",
       "<table border=\"1\" class=\"dataframe\">\n",
       "  <thead>\n",
       "    <tr style=\"text-align: right;\">\n",
       "      <th></th>\n",
       "      <th>n_estimators</th>\n",
       "      <th>mean_score</th>\n",
       "    </tr>\n",
       "  </thead>\n",
       "  <tbody>\n",
       "    <tr>\n",
       "      <th>0</th>\n",
       "      <td>1</td>\n",
       "      <td>0.666667</td>\n",
       "    </tr>\n",
       "    <tr>\n",
       "      <th>1</th>\n",
       "      <td>101</td>\n",
       "      <td>0.953333</td>\n",
       "    </tr>\n",
       "    <tr>\n",
       "      <th>2</th>\n",
       "      <td>201</td>\n",
       "      <td>0.946667</td>\n",
       "    </tr>\n",
       "    <tr>\n",
       "      <th>3</th>\n",
       "      <td>301</td>\n",
       "      <td>0.946667</td>\n",
       "    </tr>\n",
       "    <tr>\n",
       "      <th>4</th>\n",
       "      <td>401</td>\n",
       "      <td>0.946667</td>\n",
       "    </tr>\n",
       "    <tr>\n",
       "      <th>5</th>\n",
       "      <td>501</td>\n",
       "      <td>0.946667</td>\n",
       "    </tr>\n",
       "    <tr>\n",
       "      <th>6</th>\n",
       "      <td>601</td>\n",
       "      <td>0.946667</td>\n",
       "    </tr>\n",
       "    <tr>\n",
       "      <th>7</th>\n",
       "      <td>701</td>\n",
       "      <td>0.946667</td>\n",
       "    </tr>\n",
       "    <tr>\n",
       "      <th>8</th>\n",
       "      <td>801</td>\n",
       "      <td>0.946667</td>\n",
       "    </tr>\n",
       "    <tr>\n",
       "      <th>9</th>\n",
       "      <td>901</td>\n",
       "      <td>0.946667</td>\n",
       "    </tr>\n",
       "  </tbody>\n",
       "</table>\n",
       "</div>"
      ],
      "text/plain": [
       "   n_estimators  mean_score\n",
       "0             1    0.666667\n",
       "1           101    0.953333\n",
       "2           201    0.946667\n",
       "3           301    0.946667\n",
       "4           401    0.946667\n",
       "5           501    0.946667\n",
       "6           601    0.946667\n",
       "7           701    0.946667\n",
       "8           801    0.946667\n",
       "9           901    0.946667"
      ]
     },
     "execution_count": 4,
     "metadata": {},
     "output_type": "execute_result"
    }
   ],
   "source": [
    "%%time\n",
    "\n",
    "estimators = list(range(1, 1000, 100))\n",
    "\n",
    "n_estimators = []\n",
    "mean_scores  = []\n",
    "\n",
    "for n in estimators:\n",
    "    clf    = AdaBoostClassifier(n_estimators=n)\n",
    "    scores = cross_val_score(estimator=clf, \n",
    "                             X=X, \n",
    "                             y=y, \n",
    "                             cv=5)\n",
    "    n_estimators.append(n)\n",
    "    mean_scores.append(scores.mean())\n",
    "\n",
    "pd.DataFrame(data=list(zip(n_estimators, mean_scores)), \n",
    "             columns=['n_estimators', 'mean_score'])"
   ]
  },
  {
   "cell_type": "code",
   "execution_count": 9,
   "id": "51b85f2a",
   "metadata": {},
   "outputs": [
    {
     "name": "stdout",
     "output_type": "stream",
     "text": [
      "AdaBoostClassifier(algorithm='SAMME', n_estimators=101)\n",
      "CPU times: user 9.04 s, sys: 46.8 ms, total: 9.09 s\n",
      "Wall time: 9.14 s\n"
     ]
    }
   ],
   "source": [
    "%%time\n",
    "\n",
    "clf = AdaBoostClassifier()\n",
    "params = {\n",
    "    'n_estimators':list(range(1, 1000, 100)),\n",
    "    'algorithm': ['SAMME']\n",
    "}\n",
    "\n",
    "grid_clf = GridSearchCV(estimator=clf,\n",
    "                        param_grid=params,\n",
    "                        scoring='accuracy',\n",
    "                        cv=5)\n",
    "\n",
    "grid_clf.fit(X, y)\n",
    "print(grid_clf.best_estimator_)"
   ]
  }
 ],
 "metadata": {
  "kernelspec": {
   "display_name": "Python 3 (ipykernel)",
   "language": "python",
   "name": "python3"
  },
  "language_info": {
   "codemirror_mode": {
    "name": "ipython",
    "version": 3
   },
   "file_extension": ".py",
   "mimetype": "text/x-python",
   "name": "python",
   "nbconvert_exporter": "python",
   "pygments_lexer": "ipython3",
   "version": "3.11.5"
  }
 },
 "nbformat": 4,
 "nbformat_minor": 5
}
