{
 "cells": [
  {
   "cell_type": "markdown",
   "id": "54257de8",
   "metadata": {},
   "source": [
    "# Script para ánalise de nascimentos em Rondônia - 2019"
   ]
  },
  {
   "cell_type": "code",
   "execution_count": 1,
   "id": "821d627b",
   "metadata": {
    "scrolled": false
   },
   "outputs": [
    {
     "name": "stdout",
     "output_type": "stream",
     "text": [
      "2019-03\n",
      "2019-04\n",
      "2019-05\n",
      "2019-06\n",
      "2019-12\n"
     ]
    }
   ],
   "source": [
    "import numpy as np\n",
    "import pandas as pd\n",
    "import seaborn as sns\n",
    "import matplotlib.pyplot as plt\n",
    "import os\n",
    "\n",
    "sns.set_theme() \n",
    "\n",
    "\n",
    "def plota_pivot_table(df, value, index, func, ylabel, xlabel, opcao='nada'):  ## função para plotar gráficos\n",
    "    if opcao == 'nada':\n",
    "        pd.pivot_table(df, values=value, index=index,\n",
    "                       aggfunc=func).plot(figsize=[15, 5])\n",
    "    elif opcao == 'sort':  # organizar valores \n",
    "        pd.pivot_table(df, values=value, index=index,\n",
    "                       aggfunc=func).sort_values(value).plot(figsize=[15, 5])\n",
    "    elif opcao == 'unstack':   # quando quiser usar 2 colunas como referência, uma como linhas e a outra como colunas\n",
    "        pd.pivot_table(df, values=value, index=index,\n",
    "                       aggfunc=func).unstack().plot(figsize=[15, 5])\n",
    "    plt.ylabel(ylabel)  # legenda do eixo y\n",
    "    plt.xlabel(xlabel)  # legenda do eixo x\n",
    "    return None\n",
    "\n",
    "meses = ['MAR', 'ABR', 'MAI', 'JUN', 'DEZ']\n",
    "\n",
    "for mes in meses:\n",
    "    sinasc = pd.read_csv('SINASC_RO_2019_'+mes+'.csv') # carregar base de dados\n",
    "\n",
    "    max_data = sinasc.DTNASC.max()[:7]  # data dos nascimentos (mês e ano), referência para nome da pasta que será criada\n",
    "    print(max_data)\n",
    "    os.makedirs('./output/figs/'+max_data, exist_ok=True)  # cria pasta nomeada com o mês e ano dos nascimentos \n",
    "\n",
    "\n",
    "    plota_pivot_table(sinasc, 'IDADEMAE', 'DTNASC', 'mean', 'média idade mãe', 'data_nascimento', opcao='nada')\n",
    "    plt.savefig('./output/figs/'+max_data+'/media idade mae.png') # salva figura na pasta criada\n",
    "    plt.close()\n",
    "\n",
    "    plota_pivot_table(sinasc, 'IDADEMAE', 'DTNASC', 'count', 'quantidade de nascimentos', 'data_nascimento', opcao='nada')\n",
    "    plt.savefig('./output/figs/'+max_data+'/quantidade nascimentos.png')\n",
    "    plt.close()\n",
    "\n",
    "    plota_pivot_table(sinasc, 'IDADEMAE', ['DTNASC', 'SEXO'], 'count', 'idade', 'data_nascimento', opcao='unstack')\n",
    "    plt.savefig('./output/figs/'+max_data+'/media idade mae por sexo.png')\n",
    "    plt.close()\n",
    "\n",
    "    plota_pivot_table(sinasc, 'PESO', ['DTNASC', 'SEXO'], 'count', 'peso', 'data_nascimento', opcao='unstack')\n",
    "    plt.savefig('./output/figs/'+max_data+'/media peso bebe por sexo.png')\n",
    "    plt.close()\n",
    "\n",
    "    plota_pivot_table(sinasc, 'PESO', 'ESCMAE', 'median', 'peso', 'escolaridade_mae', opcao='sort')\n",
    "    plt.savefig('./output/figs/'+max_data+'/media peso por escolaridade mae.png')\n",
    "    plt.close()\n",
    "    \n",
    "    plota_pivot_table(sinasc, 'APGAR1', 'GESTACAO', 'mean', 'apgar1 medio', 'gestacao', opcao='sort')\n",
    "    plt.savefig('./output/figs/'+max_data+'/media apgar1 por gestacao.png')\n",
    "    plt.close()\n",
    "\n",
    "    plota_pivot_table(sinasc, 'APGAR5', 'GESTACAO', 'mean', 'apgar5 medio', 'gestacao', opcao='sort')\n",
    "    plt.savefig('./output/figs/'+max_data+'/media apgar5 por gestacao.png')\n",
    "    plt.close()"
   ]
  },
  {
   "cell_type": "markdown",
   "id": "a5ed2a4c",
   "metadata": {},
   "source": [
    "* Uma forma de tornar este processo mais automatizado e eficiente seria criar um script que possa ser chamado por meio de uma linha de comando.  \n",
    "* Poderia incluir no código a geração de gráficos por mês (e não o cumulativo de meses), assim obtendo mais informações sobre os nascimentos.\n",
    "* Poderia, também, incluir no código a criação de painéis com gráficos daquele mês, facilitando a comparação e a elaboração de apresentações. "
   ]
  }
 ],
 "metadata": {
  "kernelspec": {
   "display_name": "Python 3 (ipykernel)",
   "language": "python",
   "name": "python3"
  },
  "language_info": {
   "codemirror_mode": {
    "name": "ipython",
    "version": 3
   },
   "file_extension": ".py",
   "mimetype": "text/x-python",
   "name": "python",
   "nbconvert_exporter": "python",
   "pygments_lexer": "ipython3",
   "version": "3.10.9"
  }
 },
 "nbformat": 4,
 "nbformat_minor": 5
}
