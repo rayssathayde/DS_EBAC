{
 "cells": [
  {
   "cell_type": "markdown",
   "metadata": {},
   "source": [
    "# Cálculo - Tarefa 02"
   ]
  },
  {
   "cell_type": "markdown",
   "metadata": {},
   "source": [
    "#### 1- Calcule de forma numérica a integral da função $x^3$ avaliada entre os pontos $1$ e $2$. Identifique o número de retângulos que você usou."
   ]
  },
  {
   "cell_type": "code",
   "execution_count": 1,
   "metadata": {},
   "outputs": [],
   "source": [
    "import numpy as np"
   ]
  },
  {
   "cell_type": "code",
   "execution_count": 2,
   "metadata": {},
   "outputs": [],
   "source": [
    "#determinar a função\n",
    "\n",
    "f = lambda x: x**3"
   ]
  },
  {
   "cell_type": "code",
   "execution_count": 7,
   "metadata": {},
   "outputs": [],
   "source": [
    "#função para calcular a área da curva - ou seja, a integral \n",
    "\n",
    "def calcula_area(a, b, func, num_ret):\n",
    "    delta = (b-a)/num_ret # largura do retângulo\n",
    "    x_cols = np.linspace(a, b-delta, num_ret)+delta/2 # Divisão do eixo X\n",
    "    y_cols = f(x_cols) # alturas dos retângulos\n",
    "    \n",
    "    print(f'Número de retângulos = {num_ret}')\n",
    "    print(f'Delta (dx) = {delta}')\n",
    "    \n",
    "    return sum(delta*y_cols)"
   ]
  },
  {
   "cell_type": "code",
   "execution_count": 9,
   "metadata": {},
   "outputs": [
    {
     "name": "stdout",
     "output_type": "stream",
     "text": [
      "Número de retângulos = 5\n",
      "Delta (dx) = 0.2\n"
     ]
    },
    {
     "data": {
      "text/plain": [
       "3.7350000000000008"
      ]
     },
     "execution_count": 9,
     "metadata": {},
     "output_type": "execute_result"
    }
   ],
   "source": [
    "forma_numerica5 = calcula_area(1, 2, f, 5)\n",
    "forma_numerica5"
   ]
  },
  {
   "cell_type": "code",
   "execution_count": 10,
   "metadata": {},
   "outputs": [
    {
     "name": "stdout",
     "output_type": "stream",
     "text": [
      "Número de retângulos = 20\n",
      "Delta (dx) = 0.05\n"
     ]
    },
    {
     "data": {
      "text/plain": [
       "3.7490624999999995"
      ]
     },
     "execution_count": 10,
     "metadata": {},
     "output_type": "execute_result"
    }
   ],
   "source": [
    "forma_numerica20 = calcula_area(1, 2, f, 20)\n",
    "forma_numerica20"
   ]
  },
  {
   "cell_type": "code",
   "execution_count": 11,
   "metadata": {},
   "outputs": [
    {
     "name": "stdout",
     "output_type": "stream",
     "text": [
      "Número de retângulos = 200\n",
      "Delta (dx) = 0.005\n"
     ]
    },
    {
     "data": {
      "text/plain": [
       "3.749990625"
      ]
     },
     "execution_count": 11,
     "metadata": {},
     "output_type": "execute_result"
    }
   ],
   "source": [
    "forma_numerica200 = calcula_area(1, 2, f, 200)\n",
    "forma_numerica200"
   ]
  },
  {
   "cell_type": "markdown",
   "metadata": {},
   "source": [
    "#### 2- Calcule essa área de forma analítica."
   ]
  },
  {
   "cell_type": "markdown",
   "metadata": {},
   "source": [
    "$$\\int_{a}^{b} f(x) dx = F(b) - F(a)$$\n",
    "\n",
    "$$ f(x) = x^3 \\rightarrow F(x) = \\frac{1}{4} * x^4 + C,$$\n",
    "\n",
    "$$\\int_{1}^{2} x^3 dx = F(2) - F(1) = \\left(\\frac{1}{4} * 2^4\\right) - \\left(\\frac{1}{4} * 1^4\\right) = \\frac{16}{4} - \\frac{1}{4} = \\frac{15}{4} = \\textbf{3.75}$$"
   ]
  }
 ],
 "metadata": {
  "kernelspec": {
   "display_name": "Python 3 (ipykernel)",
   "language": "python",
   "name": "python3"
  },
  "language_info": {
   "codemirror_mode": {
    "name": "ipython",
    "version": 3
   },
   "file_extension": ".py",
   "mimetype": "text/x-python",
   "name": "python",
   "nbconvert_exporter": "python",
   "pygments_lexer": "ipython3",
   "version": "3.11.5"
  },
  "toc": {
   "base_numbering": 1,
   "nav_menu": {},
   "number_sections": true,
   "sideBar": true,
   "skip_h1_title": true,
   "title_cell": "Índice",
   "title_sidebar": "Conteúdo",
   "toc_cell": false,
   "toc_position": {},
   "toc_section_display": true,
   "toc_window_display": false
  },
  "varInspector": {
   "cols": {
    "lenName": 16,
    "lenType": 16,
    "lenVar": 40
   },
   "kernels_config": {
    "python": {
     "delete_cmd_postfix": "",
     "delete_cmd_prefix": "del ",
     "library": "var_list.py",
     "varRefreshCmd": "print(var_dic_list())"
    },
    "r": {
     "delete_cmd_postfix": ") ",
     "delete_cmd_prefix": "rm(",
     "library": "var_list.r",
     "varRefreshCmd": "cat(var_dic_list()) "
    }
   },
   "types_to_exclude": [
    "module",
    "function",
    "builtin_function_or_method",
    "instance",
    "_Feature"
   ],
   "window_display": false
  }
 },
 "nbformat": 4,
 "nbformat_minor": 4
}
