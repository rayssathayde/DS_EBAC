{
 "cells": [
  {
   "cell_type": "markdown",
   "metadata": {},
   "source": [
    "# Cálculo - Tarefa 01\n",
    "\n",
    "1. Marque quais desses métodos/algoritmos muito populares em ciência de dados são baseados no uso de derivada:\n",
    "\n",
    "    1. Método Mínimos Quadrados\n",
    "    2. Gradiente descendente\n",
    "    3. Newton Raphson\n",
    "    4. CART (Árvore de decisão)"
   ]
  },
  {
   "cell_type": "markdown",
   "metadata": {},
   "source": [
    "- O Método dos Mínimos Quadrados ajuda a encontrar as estimativas de coeficientes de uma função para que ela se ajuste da melhor forma a uma curva (essa curva é resultado de alguma situação real vivida - como, por exemplo, o custo de produção de determinado produto que varia de acordo com a quantidade de produtos). Nem sempre é possível obter uma função que passe exatamente nos pontos, então tenta-se obter uma função que passe o mais perto possível; a diferença entre a predição dessa função e o valor real é chamado resíduo e ele depende dos coeficientes da função. O método dos mínimos quadrados minimiza a soma dos quadrado dos resíduos, ou seja, estima os coeficientes que culminam nos menores resíduos possível. A minimização se dá por meio de derivações. \n",
    "- O gradiente descendente é um algoritmo de otimização usado para encontrar o mínimo de uma função, que geralmente envolve o cálculo do gradiente (derivadas parciais) da função em relação aos parâmetros.\n",
    "- O método de Newton-Raphson é uma técnica para encontrar sucessivamente aproximações de raízes (ou soluções de equações) de uma função, utilizando a derivada da função. É frequentemente utilizado em ciência de dados em várias capacidades, principalmente em problemas de otimização e modelagem estatística. \n",
    "> CART é um método de aprendizado de máquina que constrói árvores de decisão binárias recursivamente, dividindo os dados em subconjuntos com base nos valores das características. Ele não depende explicitamente do cálculo de derivadas."
   ]
  },
  {
   "cell_type": "markdown",
   "metadata": {},
   "source": [
    "2. Dada uma base de dados com uma variável resposta $y$ e um conjunto de variáveis explicativas. Considere uma estrutura de um modelo de regressão. Explique com suas palavras por que não é possível obter parâmetros que forneçam um erro quadrático médio (EQM) menor que o obtido com estimadores de mínimos quadrados."
   ]
  },
  {
   "cell_type": "markdown",
   "metadata": {},
   "source": [
    "Estimadores de mínimos quadrados vão fornecer estimativas dos coeficientes que geram o menor resíduo possível. Considerando que o erro quadrático médio (EQM) mede a diferença média entre os valores previstos por um modelo e os valores reais, a menor diferença é justamente o menor resíduo obtido pelos estimadores.  \n",
    "Ou seja, os coeficientes estimados já são os que geram menor erro possível. "
   ]
  }
 ],
 "metadata": {
  "kernelspec": {
   "display_name": "Python 3 (ipykernel)",
   "language": "python",
   "name": "python3"
  },
  "language_info": {
   "codemirror_mode": {
    "name": "ipython",
    "version": 3
   },
   "file_extension": ".py",
   "mimetype": "text/x-python",
   "name": "python",
   "nbconvert_exporter": "python",
   "pygments_lexer": "ipython3",
   "version": "3.11.5"
  },
  "toc": {
   "base_numbering": 1,
   "nav_menu": {},
   "number_sections": true,
   "sideBar": true,
   "skip_h1_title": true,
   "title_cell": "Índice",
   "title_sidebar": "Conteúdo",
   "toc_cell": false,
   "toc_position": {},
   "toc_section_display": true,
   "toc_window_display": false
  },
  "varInspector": {
   "cols": {
    "lenName": 16,
    "lenType": 16,
    "lenVar": 40
   },
   "kernels_config": {
    "python": {
     "delete_cmd_postfix": "",
     "delete_cmd_prefix": "del ",
     "library": "var_list.py",
     "varRefreshCmd": "print(var_dic_list())"
    },
    "r": {
     "delete_cmd_postfix": ") ",
     "delete_cmd_prefix": "rm(",
     "library": "var_list.r",
     "varRefreshCmd": "cat(var_dic_list()) "
    }
   },
   "types_to_exclude": [
    "module",
    "function",
    "builtin_function_or_method",
    "instance",
    "_Feature"
   ],
   "window_display": false
  }
 },
 "nbformat": 4,
 "nbformat_minor": 4
}
